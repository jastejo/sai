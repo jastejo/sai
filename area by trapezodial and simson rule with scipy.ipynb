{
 "cells": [
  {
   "cell_type": "code",
   "execution_count": 1,
   "id": "8e369860",
   "metadata": {},
   "outputs": [
    {
     "name": "stdout",
     "output_type": "stream",
     "text": [
      "area:  323.1145000000007\n",
      "area:  323.09983333333406\n"
     ]
    }
   ],
   "source": [
    "from scipy.integrate import simps\n",
    "from numpy import trapz\n",
    "\n",
    "import numpy as np\n",
    "\n",
    "def function(x):\n",
    "    return x**2\n",
    "\n",
    "x = np.arange(1,10,0.1)\n",
    "y = function(x)\n",
    "\n",
    "#print (x)\n",
    "#print (y)\n",
    "\n",
    "# primitive :\n",
    "\n",
    "#print (\"area: \", 1.0 / 3.0 * ( x[len(x)-1]**3 - x[0]**3 )\n",
    "\n",
    "# using Trapezoidal rule:\n",
    "\n",
    "area = trapz(y,x)\n",
    "print ('area: ',area)\n",
    "\n",
    "# using Simpson's rule:\n",
    "\n",
    "area = simps(y,x)\n",
    "print ('area: ',area)"
   ]
  },
  {
   "cell_type": "code",
   "execution_count": null,
   "id": "065face8",
   "metadata": {},
   "outputs": [],
   "source": []
  },
  {
   "cell_type": "code",
   "execution_count": null,
   "id": "beb0e01c",
   "metadata": {},
   "outputs": [],
   "source": []
  }
 ],
 "metadata": {
  "kernelspec": {
   "display_name": "Python 3 (ipykernel)",
   "language": "python",
   "name": "python3"
  },
  "language_info": {
   "codemirror_mode": {
    "name": "ipython",
    "version": 3
   },
   "file_extension": ".py",
   "mimetype": "text/x-python",
   "name": "python",
   "nbconvert_exporter": "python",
   "pygments_lexer": "ipython3",
   "version": "3.9.7"
  }
 },
 "nbformat": 4,
 "nbformat_minor": 5
}
